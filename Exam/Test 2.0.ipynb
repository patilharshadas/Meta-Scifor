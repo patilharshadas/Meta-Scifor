{
 "cells": [
  {
   "cell_type": "markdown",
   "metadata": {},
   "source": [
    "## Test 2.0\n"
   ]
  },
  {
   "cell_type": "markdown",
   "metadata": {},
   "source": [
    "# Functions\n",
    "\n",
    "1- Write a function that takes a number and returns its square.\n",
    "\n",
    "2- Write a function that takes two numbers and returns the larger one.\n",
    "\n",
    "3- Write a function that prints “Welcome to AIML” five times using a loop.\n",
    "\n",
    "4- Write a function that checks if a number is even or odd.\n",
    "\n",
    "5- Create a function that takes a list and returns the sum of all elements.\n",
    "\n"
   ]
  },
  {
   "cell_type": "code",
   "execution_count": 4,
   "metadata": {},
   "outputs": [
    {
     "name": "stdout",
     "output_type": "stream",
     "text": [
      "25\n"
     ]
    }
   ],
   "source": [
    "# 1- Write a function that takes a number and returns its square.\n",
    "def square(num):\n",
    "    return num * num\n",
    "print(square(5))"
   ]
  },
  {
   "cell_type": "code",
   "execution_count": 3,
   "metadata": {},
   "outputs": [
    {
     "name": "stdout",
     "output_type": "stream",
     "text": [
      "56\n"
     ]
    }
   ],
   "source": [
    "# 2- Write a function that takes two numbers and returns the larger one.\n",
    "def Long_num(a,b):\n",
    "    if a > b:\n",
    "        return a\n",
    "    else:\n",
    "        return b\n",
    "print(Long_num(56,32))"
   ]
  },
  {
   "cell_type": "code",
   "execution_count": 8,
   "metadata": {},
   "outputs": [
    {
     "name": "stdout",
     "output_type": "stream",
     "text": [
      "Welcome to AIML\n",
      "Welcome to AIML\n",
      "Welcome to AIML\n",
      "Welcome to AIML\n",
      "Welcome to AIML\n"
     ]
    }
   ],
   "source": [
    "# 3- Write a function that prints “Welcome to AIML” five times using a loop.\n",
    "def msg():  \n",
    "    for i in range (5):\n",
    "        print(\"Welcome to AIML\")\n",
    "msg()"
   ]
  },
  {
   "cell_type": "code",
   "execution_count": 11,
   "metadata": {},
   "outputs": [
    {
     "name": "stdout",
     "output_type": "stream",
     "text": [
      "Num is Even\n"
     ]
    }
   ],
   "source": [
    "# 4- Write a function that checks if a number is even or odd.\n",
    "def even_odd(num):\n",
    "    if num % 2 == 0:\n",
    "        return \"Num is Even\"\n",
    "    else:\n",
    "        return \"Num is Odd\"\n",
    "print(even_odd(20))"
   ]
  },
  {
   "cell_type": "code",
   "execution_count": 13,
   "metadata": {},
   "outputs": [
    {
     "data": {
      "text/plain": [
       "15"
      ]
     },
     "execution_count": 13,
     "metadata": {},
     "output_type": "execute_result"
    }
   ],
   "source": [
    "# 5- Create a function that takes a list and returns the sum of all elements.\n",
    "def sum_of_list(lst):\n",
    "    total = 0\n",
    "    for i in lst:\n",
    "        total += i\n",
    "    return total\n",
    "sum_of_list([1,2,3,4,5])"
   ]
  },
  {
   "cell_type": "markdown",
   "metadata": {},
   "source": [
    "<span style=\"font-size:32px; color:black;\"><b>Loops</b></span>\n",
    "\n",
    "\n",
    "\n",
    "\n",
    "1- Write a for loop to print numbers from 1 to 10.\n",
    "\n",
    "2- Write a while loop to print all even numbers between 1 and 20.\n",
    "\n",
    "3- Write a loop to print each character of a given string.\n",
    "\n",
    "4- Write a loop that prints the multiplication table of 5.\n",
    "\n",
    "5- Write a loop that takes a list of numbers and prints only the positive ones.\n",
    "\n"
   ]
  },
  {
   "cell_type": "code",
   "execution_count": 14,
   "metadata": {},
   "outputs": [
    {
     "name": "stdout",
     "output_type": "stream",
     "text": [
      "1\n",
      "2\n",
      "3\n",
      "4\n",
      "5\n",
      "6\n",
      "7\n",
      "8\n",
      "9\n",
      "10\n"
     ]
    }
   ],
   "source": [
    "# 1- Write a for loop to print numbers from 1 to 10.\n",
    "for i in range (1,11):\n",
    "    print(i)"
   ]
  },
  {
   "cell_type": "code",
   "execution_count": 15,
   "metadata": {},
   "outputs": [
    {
     "name": "stdout",
     "output_type": "stream",
     "text": [
      "2\n",
      "4\n",
      "6\n",
      "8\n",
      "10\n",
      "12\n",
      "14\n",
      "16\n",
      "18\n",
      "20\n"
     ]
    }
   ],
   "source": [
    "# 2- Write a while loop to print all even numbers between 1 and 20.\n",
    "i = 2\n",
    "while i <= 20:\n",
    "    print(i)\n",
    "    i = i + 2"
   ]
  },
  {
   "cell_type": "code",
   "execution_count": 16,
   "metadata": {},
   "outputs": [
    {
     "name": "stdout",
     "output_type": "stream",
     "text": [
      "M\n",
      "e\n",
      "t\n",
      "a\n",
      " \n",
      "S\n",
      "c\n",
      "i\n",
      "f\n",
      "o\n",
      "r\n",
      " \n",
      "T\n",
      "e\n",
      "c\n",
      "h\n",
      "n\n",
      "o\n",
      "l\n",
      "o\n",
      "g\n",
      "i\n",
      "e\n",
      "s\n"
     ]
    }
   ],
   "source": [
    "# 3- Write a loop to print each character of a given string.\n",
    "a = \"Meta Scifor Technologies\"\n",
    "for i in a:\n",
    "    print(i)"
   ]
  },
  {
   "cell_type": "code",
   "execution_count": 17,
   "metadata": {},
   "outputs": [
    {
     "name": "stdout",
     "output_type": "stream",
     "text": [
      "5\n",
      "10\n",
      "15\n",
      "20\n",
      "25\n",
      "30\n",
      "35\n",
      "40\n",
      "45\n",
      "50\n"
     ]
    }
   ],
   "source": [
    "# 4- Write a loop that prints the multiplication table of 5.\n",
    "for i in range (1 ,11):\n",
    "    print(5 * i)"
   ]
  },
  {
   "cell_type": "code",
   "execution_count": 23,
   "metadata": {},
   "outputs": [
    {
     "name": "stdout",
     "output_type": "stream",
     "text": [
      "1\n",
      "3\n",
      "5\n",
      "7\n"
     ]
    }
   ],
   "source": [
    "# 5- Write a loop that takes a list of numbers and prints only the positive ones.\n",
    "numbers = [5, -2, 12, 7, 0, 33, -10, 8]\n",
    "for num in numbers:\n",
    "    if num > 0:\n",
    "        print(num)\n"
   ]
  },
  {
   "cell_type": "markdown",
   "metadata": {},
   "source": [
    "<span style=\"font-size:32px; color:black;\"><b>Try and Except</b></span>\n",
    "\n",
    "1- Write a function that takes two numbers and divides them. Use try and except to handle divide-by-zero errors.\n",
    "\n",
    "2- Write a program that asks the user for a number and handles the case where the input is not a number using try and except.\n",
    "\n",
    "3- Write a program that opens a file using try, and prints a custom error if the file is not found.\n",
    "\n",
    "4- Create a function that adds two numbers, and raises an error message if one of the inputs is not a number.\n",
    "\n",
    "5- Write a program using try and except to read an integer from the user safely."
   ]
  },
  {
   "cell_type": "code",
   "execution_count": null,
   "metadata": {},
   "outputs": [],
   "source": [
    "# 1- Write a function that takes two numbers and divides them. Use try and except to handle divide-by-zero errors.\n",
    "def divide_numbers(a, b):\n",
    "    try:\n",
    "        result = a / b\n",
    "        return result\n",
    "    except ZeroDivisionError:\n",
    "        return \"Error: Cannot divide by zero.\"\n",
    "    \n",
    "print(divide_numbers(10, 0))\n"
   ]
  },
  {
   "cell_type": "code",
   "execution_count": 25,
   "metadata": {},
   "outputs": [
    {
     "name": "stdout",
     "output_type": "stream",
     "text": [
      "Enter the Number :9\n",
      "Your Entered number is 9\n"
     ]
    }
   ],
   "source": [
    "# 2- Write a program that asks the user for a number and handles the case where the input is not a number using try and except.\n",
    "try:\n",
    "    a = int(input(\"Enter the Number :\"))\n",
    "    print(\"Your Entered number is\",a)\n",
    "except:\n",
    "    print(\"It's not valid input\")"
   ]
  },
  {
   "cell_type": "code",
   "execution_count": 26,
   "metadata": {},
   "outputs": [
    {
     "name": "stdout",
     "output_type": "stream",
     "text": [
      "Error: The file 'example.txt' was not found.\n"
     ]
    }
   ],
   "source": [
    "# 3- Write a program that opens a file using try, and prints a custom error if the file is not found.\n",
    "try:\n",
    "    with open(\"example.txt\", \"r\") as file:\n",
    "        content = file.read()\n",
    "        print(content)\n",
    "except FileNotFoundError:\n",
    "    print(\"Error: The file 'example.txt' was not found.\")\n"
   ]
  },
  {
   "cell_type": "code",
   "execution_count": 50,
   "metadata": {},
   "outputs": [
    {
     "name": "stdout",
     "output_type": "stream",
     "text": [
      "Kindly Enter Numeric Value\n"
     ]
    }
   ],
   "source": [
    "# 4- Create a function that adds two numbers, and raises an error message if one of the inputs is not a number.\n",
    "def add_num(a,b):\n",
    "    if type(a) != int or type(b) != int:\n",
    "        raise ValueError(\"Kindly Enter Numeric Value\")\n",
    "    return a+b\n",
    "try:\n",
    "    print(add_num(10,\"3\"))\n",
    "except ValueError as i:\n",
    "    print(i)"
   ]
  },
  {
   "cell_type": "code",
   "execution_count": 32,
   "metadata": {},
   "outputs": [
    {
     "name": "stdout",
     "output_type": "stream",
     "text": [
      "Enter an integer: 40\n",
      "You Entered: 40\n"
     ]
    }
   ],
   "source": [
    "# 5- Write a program using try and except to read an integer from the user safely.\n",
    "try:\n",
    "    a = int(input(\"Enter an integer: \"))\n",
    "    print(\"You Entered:\",a)\n",
    "except ValueError:\n",
    "    print(\"Error: That is not an integer.\")\n"
   ]
  },
  {
   "cell_type": "markdown",
   "metadata": {},
   "source": [
    "<span style=\"font-size:32px; color:black;\"><b>Lambda, Map, Filter</b></span>\n",
    "\n",
    "\n",
    "\n",
    "1- Use a lambda function to add 10 to a given number.\n",
    "\n",
    "2- Use map and lambda to convert a list of numbers into their squares.\n",
    "\n",
    "3- Use filter and lambda to extract even numbers from a list.\n",
    "\n",
    "4- Use map and a lambda to convert a list of lowercase strings to uppercase.\n",
    "\n",
    "5- Use filter and a lambda to find numbers greater than 50 in a given list.\n",
    "\n"
   ]
  },
  {
   "cell_type": "code",
   "execution_count": 33,
   "metadata": {},
   "outputs": [
    {
     "name": "stdout",
     "output_type": "stream",
     "text": [
      "16\n"
     ]
    }
   ],
   "source": [
    "# 1- Use a lambda function to add 10 to a given number.\n",
    "add = lambda x: x + 10\n",
    "print(add(6))"
   ]
  },
  {
   "cell_type": "code",
   "execution_count": 43,
   "metadata": {},
   "outputs": [
    {
     "name": "stdout",
     "output_type": "stream",
     "text": [
      "[25, 4, 144, 49, 0, 1089, 100, 64]\n"
     ]
    }
   ],
   "source": [
    "# 2- Use map and lambda to convert a list of numbers into their squares.\n",
    "numbers = [5, -2, 12, 7, 0, 33, -10, 8]\n",
    "squares = list(map(lambda x: x**2, numbers))\n",
    "print(squares)\n"
   ]
  },
  {
   "cell_type": "code",
   "execution_count": 44,
   "metadata": {},
   "outputs": [
    {
     "name": "stdout",
     "output_type": "stream",
     "text": [
      "[-2, 12, 0, -10, 8]\n"
     ]
    }
   ],
   "source": [
    "numbers = [5, -2, 12, 7, 0, 33, -10, 8]\n",
    "evens = list(filter(lambda x: x % 2 == 0, numbers))\n",
    "print(evens)\n"
   ]
  },
  {
   "cell_type": "code",
   "execution_count": 48,
   "metadata": {},
   "outputs": [
    {
     "name": "stdout",
     "output_type": "stream",
     "text": [
      "['APPLE', 'BANANA', 'KIWI', 'FIG', 'STRAWBERRY', 'GRAPE']\n"
     ]
    }
   ],
   "source": [
    "# 4- Use map and a lambda to convert a list of lowercase strings to uppercase.\n",
    "words = [\"apple\", \"banana\", \"kiwi\", \"fig\", \"strawberry\", \"grape\"]\n",
    "uppercase_words = list(map(lambda x: x.upper(), words))\n",
    "print(uppercase_words)\n"
   ]
  },
  {
   "cell_type": "code",
   "execution_count": 47,
   "metadata": {},
   "outputs": [
    {
     "name": "stdout",
     "output_type": "stream",
     "text": [
      "[55, 75, 60]\n"
     ]
    }
   ],
   "source": [
    "# 5- Use filter and a lambda to find numbers greater than 50 in a given list.\n",
    "numbers = [10, 55, 32, 75, 60, 20]\n",
    "greater_than_50 = list(filter(lambda x: x > 50, numbers))\n",
    "print(greater_than_50)\n"
   ]
  },
  {
   "cell_type": "markdown",
   "metadata": {},
   "source": [
    "# **Variable Scope**\n",
    "\n",
    "1- Write a program to show the use of a global variable inside a function.\n",
    "\n",
    "2- Write a program where a local variable inside a function does not affect a global variable with the same name.\n",
    "\n",
    "3- Create a function that modifies a global variable.\n",
    "\n",
    "4- Write two functions, one that sets a local variable and one that accesses a global variable. Print both.\n",
    "\n",
    "5- Write a function where a variable is declared inside the function and show that it cannot be accessed outside."
   ]
  },
  {
   "cell_type": "code",
   "execution_count": 38,
   "metadata": {},
   "outputs": [
    {
     "name": "stdout",
     "output_type": "stream",
     "text": [
      "10\n"
     ]
    }
   ],
   "source": [
    "# 1- Write a program to show the use of a global variable inside a function:\n",
    "x = 10\n",
    "def global_veriable():\n",
    "    print(x)\n",
    "\n",
    "global_veriable()\n"
   ]
  },
  {
   "cell_type": "code",
   "execution_count": 39,
   "metadata": {},
   "outputs": [
    {
     "name": "stdout",
     "output_type": "stream",
     "text": [
      "5\n",
      "10\n"
     ]
    }
   ],
   "source": [
    "# 2- Write a program where a local variable inside a function does not affect a global variable with the same name.\n",
    "x = 10\n",
    "def local_variable():\n",
    "    x = 5 \n",
    "    print(x)\n",
    "local_variable()\n",
    "print(x)\n"
   ]
  },
  {
   "cell_type": "code",
   "execution_count": 40,
   "metadata": {},
   "outputs": [
    {
     "name": "stdout",
     "output_type": "stream",
     "text": [
      "20\n",
      "20\n"
     ]
    }
   ],
   "source": [
    "# 3- Create a function that modifies a global variable.\n",
    "x = 10\n",
    "def modify_global():\n",
    "    global x\n",
    "    x = 20\n",
    "    print(x)\n",
    "modify_global()\n",
    "print(x)\n"
   ]
  },
  {
   "cell_type": "code",
   "execution_count": 49,
   "metadata": {},
   "outputs": [
    {
     "name": "stdout",
     "output_type": "stream",
     "text": [
      "10\n",
      "5\n"
     ]
    }
   ],
   "source": [
    "# 4- Write two functions, one that sets a local variable and one that accesses a global variable. Print both.\n",
    "global_var = 5\n",
    "def local_variable():\n",
    "    local_var = 10\n",
    "    print(local_var)\n",
    "def global_variable():\n",
    "    print(global_var)\n",
    "set_local_variable()\n",
    "access_global_variable()\n"
   ]
  },
  {
   "cell_type": "code",
   "execution_count": 46,
   "metadata": {},
   "outputs": [
    {
     "name": "stdout",
     "output_type": "stream",
     "text": [
      "50\n"
     ]
    },
    {
     "ename": "NameError",
     "evalue": "name 'local_veriable' is not defined",
     "output_type": "error",
     "traceback": [
      "\u001b[1;31m---------------------------------------------------------------------------\u001b[0m",
      "\u001b[1;31mNameError\u001b[0m                                 Traceback (most recent call last)",
      "\u001b[1;32m<ipython-input-46-06eb66859345>\u001b[0m in \u001b[0;36m<module>\u001b[1;34m()\u001b[0m\n\u001b[0;32m      5\u001b[0m \u001b[1;33m\u001b[0m\u001b[0m\n\u001b[0;32m      6\u001b[0m \u001b[0mmy_function\u001b[0m\u001b[1;33m(\u001b[0m\u001b[1;33m)\u001b[0m\u001b[1;33m\u001b[0m\u001b[0m\n\u001b[1;32m----> 7\u001b[1;33m \u001b[0mprint\u001b[0m\u001b[1;33m(\u001b[0m\u001b[0mlocal_veriable\u001b[0m\u001b[1;33m)\u001b[0m\u001b[1;33m\u001b[0m\u001b[0m\n\u001b[0m",
      "\u001b[1;31mNameError\u001b[0m: name 'local_veriable' is not defined"
     ]
    }
   ],
   "source": [
    "# 5- Write a function where a variable is declared inside the function and show that it cannot be accessed outside.\n",
    "def my_function():\n",
    "    local_veriable = 50\n",
    "    print(local_veriable)\n",
    "\n",
    "my_function()\n",
    "print(local_veriable)\n"
   ]
  },
  {
   "cell_type": "raw",
   "metadata": {},
   "source": [
    "Universal Input List \n",
    "You can use this list for most questions that require a list or numeric collection:\n",
    "\n",
    "numbers = [5, -2, 12, 7, 0, 33, -10, 8]\n",
    "words = [\"apple\", \"banana\", \"kiwi\", \"fig\", \"strawberry\", \"grape\"]\n"
   ]
  },
  {
   "cell_type": "raw",
   "metadata": {},
   "source": [
    "All the Best"
   ]
  },
  {
   "cell_type": "code",
   "execution_count": null,
   "metadata": {},
   "outputs": [],
   "source": []
  }
 ],
 "metadata": {
  "kernelspec": {
   "display_name": "Python 3",
   "language": "python",
   "name": "python3"
  },
  "language_info": {
   "codemirror_mode": {
    "name": "ipython",
    "version": 3
   },
   "file_extension": ".py",
   "mimetype": "text/x-python",
   "name": "python",
   "nbconvert_exporter": "python",
   "pygments_lexer": "ipython3",
   "version": "3.6.5"
  }
 },
 "nbformat": 4,
 "nbformat_minor": 5
}
