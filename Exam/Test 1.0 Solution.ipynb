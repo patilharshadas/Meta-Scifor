{
 "cells": [
  {
   "cell_type": "markdown",
   "metadata": {},
   "source": [
    "# Test 1.0 (Basic Python)\n"
   ]
  },
  {
   "cell_type": "markdown",
   "metadata": {},
   "source": [
    "#  List"
   ]
  },
  {
   "cell_type": "markdown",
   "metadata": {},
   "source": [
    "1- Create an empty list called fruits.\n",
    "\n",
    "2- Add \"apple\" to the fruits list using append().\n",
    "\n",
    "3- Add another list [\"banana\", \"cherry\"] to fruits using extend().\n",
    "\n",
    "4- Remove \"banana\" from the fruits list using remove().\n",
    "\n",
    "5- Remove the last item from fruits using pop().\n",
    "\n",
    "6- Reverse the fruits list using reverse().\n",
    "\n",
    "7- Insert \"mango\" at index 1 in the fruits list using insert().\n",
    "\n",
    "8- Print elements from index 2 to 4 using slicing.\n",
    "\n",
    "9- Create a list of numbers from 1 to 5.\n",
    "\n",
    "10- Print the first and last element of the list using indexing.\n",
    "\n",
    "11- Change the value at index 2 to 10.\n",
    "\n",
    "12- Check if \"grape\" exists in the list fruits, and print a message.\n",
    "\n",
    "13- Use a loop to print all items in the list one by one.\n",
    "\n",
    "14- Use len() to print the number of items in the list.\n",
    "\n"
   ]
  },
  {
   "cell_type": "code",
   "execution_count": 1,
   "metadata": {},
   "outputs": [
    {
     "name": "stdout",
     "output_type": "stream",
     "text": [
      "[]\n",
      "1 5\n",
      "Grape is not Existes\n",
      "1\n",
      "2\n",
      "10\n",
      "4\n",
      "5\n",
      "5\n"
     ]
    }
   ],
   "source": [
    "#1 Create an empty list called fruits.\n",
    "fruits = []\n",
    "\n",
    "#2 Add \"apple\" to the fruits list using append().\n",
    "fruits.append(\"apple\")\n",
    "\n",
    "# 3 Add another list [\"banana\", \"cherry\"] to fruits using extend().\n",
    "fruits.extend([\"banana\", \"cherry\"])\n",
    "\n",
    "# 4 Remove \"banana\" from the fruits list using remove().\n",
    "fruits.remove(\"banana\")\n",
    "\n",
    "# 5 Remove the last item from fruits using pop().\n",
    "fruits.pop()\n",
    "\n",
    "# 6 Reverse the fruits list using reverse().\n",
    "fruits.reverse()\n",
    "\n",
    "# 7 Insert \"mango\" at index 1 in the fruits list using insert().\n",
    "fruits.insert(1,\"mango\")\n",
    "\n",
    "# 8 Print elements from index 2 to 4 using slicing.\n",
    "print(fruits[2:4])\n",
    "\n",
    "# 9 Create a list of numbers from 1 to 5.\n",
    "numbers = [1,2,3,4,5]\n",
    "\n",
    "# 10 Print the first and last element of the list using indexing.\n",
    "print(numbers[0], numbers[-1])\n",
    "\n",
    "# 11 Change the value at index 2 to 10.\n",
    "numbers[2] = 10\n",
    "\n",
    "# 12 Check if \"grape\" exists in the list fruits, and print a message.\n",
    "if \"grape\" in fruits:\n",
    "    print(\"Grape is Existes\")\n",
    "else:\n",
    "    print(\"Grape is not Existes\")\n",
    "fruits\n",
    "\n",
    "# 13 Use a loop to print all items in the list one by one.\n",
    "for i in numbers:\n",
    "    print(i)\n",
    "    \n",
    "# 14 Use len() to print the number of items in the list.\n",
    "print(len(numbers))"
   ]
  },
  {
   "cell_type": "markdown",
   "metadata": {},
   "source": [
    "# Tuple"
   ]
  },
  {
   "cell_type": "markdown",
   "metadata": {},
   "source": [
    "1- Create a tuple of numbers like (1, 2, 3, 2, 4, 2).\n",
    "\n",
    "2- Use count() to find how many times 2 appears.\n",
    "\n",
    "3- Use index() to find the index of the number 4.\n",
    "\n",
    "4- If you want to add an item to a tuple, how will you convert it to a list, append the item, and convert it back to a tuple?\n",
    "\n",
    "5- Create a tuple of 3 strings: \"red\", \"green\", \"blue\".\n",
    "\n",
    "6- Try changing the first item of the tuple — what error do you get?\n",
    "\n",
    "7- Convert this tuple to a list, add a new color, and convert it back to a tuple.\n",
    "\n"
   ]
  },
  {
   "cell_type": "code",
   "execution_count": 2,
   "metadata": {},
   "outputs": [
    {
     "name": "stdout",
     "output_type": "stream",
     "text": [
      "3\n",
      "4\n",
      "updated (1, 2, 3, 2, 4, 2, 5)\n",
      "Updated : ('red', 'green', 'blue', 'yellow')\n"
     ]
    }
   ],
   "source": [
    "# 1 Create a tuple of numbers like (1, 2, 3, 2, 4, 2).\n",
    "num = (1, 2, 3, 2, 4, 2)\n",
    "\n",
    "# 2- Use count() to find how many times 2 appears.\n",
    "print(num.count(2))\n",
    "\n",
    "# 3- Use index() to find the index of the number 4.\n",
    "print(num.index(4))\n",
    "\n",
    "# 4- If you want to add an item to a tuple, how will you convert it to a list, append the item, and convert it back to a tuple?\n",
    "num_list = list(num)\n",
    "num_list.append(5)\n",
    "num = tuple(num_list)\n",
    "print(\"updated\",num)\n",
    "\n",
    "# 5- Create a tuple of 3 strings: \"red\", \"green\", \"blue\".\n",
    "colors = (\"red\", \"green\", \"blue\")\n",
    "\n",
    "# 6- Try changing the first item of the tuple — what error do you get?\n",
    "# colors[0] = \"yellow\"\n",
    "\n",
    "# 7- Convert this tuple to a list, add a new color, and convert it back to a tuple.\n",
    "color_list = list(colors)\n",
    "color_list.append(\"yellow\")\n",
    "colors = tuple(color_list)\n",
    "print(\"Updated :\", colors)\n"
   ]
  },
  {
   "cell_type": "markdown",
   "metadata": {},
   "source": [
    "# Set"
   ]
  },
  {
   "cell_type": "markdown",
   "metadata": {},
   "source": [
    "1- Create an empty set called my_set.\n",
    "\n",
    "2- Add \"apple\" and \"banana\" to my_set using add().\n",
    "\n",
    "3- Do sets allow duplicate values? Explain with an example.\n",
    "\n",
    "4- Create two sets:\n",
    "set1 = {1, 2, 3}\n",
    "set2 = {3, 4, 5}\n",
    "Find the union and intersection of the sets.\n",
    "\n",
    "5- Remove an item from a set using discard().\n",
    "\n",
    "6- Use a loop to print all elements in a set."
   ]
  },
  {
   "cell_type": "code",
   "execution_count": 3,
   "metadata": {},
   "outputs": [
    {
     "name": "stdout",
     "output_type": "stream",
     "text": [
      "{'banana', 'apple'}\n",
      "{1, 2, 3, 4, 5} {3}\n",
      "{'apple'}\n",
      "apple\n"
     ]
    }
   ],
   "source": [
    "# 1- Create an empty set called my_set.\n",
    "my_set = set()\n",
    "\n",
    "# 2- Add \"apple\" and \"banana\" to my_set using add().\n",
    "my_set.add(\"apple\")\n",
    "my_set.add(\"banana\")\n",
    "\n",
    "# 3- Do sets allow duplicate values? Explain with an example.\n",
    "# No, Set do not allow duplicate values, It stores only unique values.\n",
    "my_set.add(\"apple\")\n",
    "print(my_set)\n",
    "\n",
    "# 4- Create two sets: set1 = {1, 2, 3} set2 = {3, 4, 5} Find the union and intersection of the sets.\n",
    "set1 = {1, 2, 3} \n",
    "set2 = {3, 4, 5}\n",
    "union_set = set1.union(set2)\n",
    "intersection_set = set1.intersection(set2)\n",
    "print(union_set,intersection_set)\n",
    "\n",
    "# 5- Remove an item from a set using discard().\n",
    "my_set.discard(\"banana\")\n",
    "print(my_set)\n",
    "\n",
    "# 6- Use a loop to print all elements in a set.\n",
    "for i in my_set:\n",
    "    print(i)"
   ]
  },
  {
   "cell_type": "markdown",
   "metadata": {},
   "source": [
    "# Dictionary"
   ]
  },
  {
   "cell_type": "markdown",
   "metadata": {},
   "source": [
    "1- Create a dictionary with a key \"name\" and value \"Ali\".\n",
    "\n",
    "2- Access the value of the key \"name\".\n",
    "\n",
    "3- Add a new key \"age\" with the value 25.\n",
    "\n",
    "4- Update the value of \"name\" to \"Ahmed\".\n",
    "\n",
    "5- Create a dictionary of a student: {\"name\": \"Sara\", \"grade\": \"A\", \"age\": 17}\n",
    "\n",
    "6- Print all keys in the dictionary.\n",
    "\n",
    "7- Print all values in the dictionary.\n",
    "\n",
    "8- Check if \"grade\" key exists in the dictionary.\n",
    "\n",
    "9- Loop through the dictionary and print each key and its value."
   ]
  },
  {
   "cell_type": "code",
   "execution_count": 4,
   "metadata": {},
   "outputs": [
    {
     "name": "stdout",
     "output_type": "stream",
     "text": [
      "{'name': 'Ali'}\n",
      "Ali\n",
      "{'name': 'Ali', 'age': 25}\n",
      "{'name': 'Ahmed', 'age': 25}\n",
      "dict_keys(['name', 'grade', 'age'])\n",
      "dict_values(['Sara', 'A', 17])\n",
      "True\n",
      "name : Sara\n",
      "grade : A\n",
      "age : 17\n"
     ]
    }
   ],
   "source": [
    "# 1- Create a dictionary with a key \"name\" and value \"Ali\".\n",
    "dic = {\"name\" : \"Ali\"}\n",
    "print(dic)\n",
    "\n",
    "# 2- Access the value of the key \"name\".\n",
    "print(dic[\"name\"])\n",
    "\n",
    "# 3- Add a new key \"age\" with the value 25.\n",
    "dic[\"age\"] = 25\n",
    "print(dic)\n",
    "\n",
    "# 4- Update the value of \"name\" to \"Ahmed\".\n",
    "dic[\"name\"] = \"Ahmed\"\n",
    "print(dic)\n",
    "\n",
    "# 5- Create a dictionary of a student: {\"name\": \"Sara\", \"grade\": \"A\", \"age\": 17}\n",
    "student = {\"name\": \"Sara\", \"grade\": \"A\", \"age\": 17}\n",
    "\n",
    "# 6- Print all keys in the dictionary.\n",
    "print(student.keys())\n",
    "\n",
    "# 7- Print all values in the dictionary.\n",
    "print(student.values())\n",
    "\n",
    "# 8- Check if \"grade\" key exists in the dictionary.\n",
    "print(\"grade\" in student)\n",
    "\n",
    "# 9- Loop through the dictionary and print each key and its value.\n",
    "for key, val in student.items():\n",
    "    print(key,\":\" ,val)"
   ]
  },
  {
   "cell_type": "markdown",
   "metadata": {},
   "source": [
    "# If-Elif-Else"
   ]
  },
  {
   "cell_type": "raw",
   "metadata": {},
   "source": [
    "numbers = [5, 10, 15, 20, 25]"
   ]
  },
  {
   "cell_type": "markdown",
   "metadata": {},
   "source": [
    "1- Check if 10 is in the list. If it is, print \"Found 10\", otherwise print \"10 not found\".\n",
    "\n",
    "2- Write a condition: If any number is greater than 20, print \"Large number\", else print \"Small number\".\n",
    "\n"
   ]
  },
  {
   "cell_type": "code",
   "execution_count": 5,
   "metadata": {},
   "outputs": [
    {
     "name": "stdout",
     "output_type": "stream",
     "text": [
      "Found 10\n"
     ]
    }
   ],
   "source": [
    "# 1- Check if 10 is in the list. If it is, print \"Found 10\", otherwise print \"10 not found\".\n",
    "if 10 in numbers:\n",
    "    print(\"Found 10\")\n",
    "else:\n",
    "    print(\"10 not found\")"
   ]
  },
  {
   "cell_type": "code",
   "execution_count": 7,
   "metadata": {},
   "outputs": [
    {
     "name": "stdout",
     "output_type": "stream",
     "text": [
      "Large number\n"
     ]
    }
   ],
   "source": [
    "# 2- Write a condition: If any number is greater than 20, print \"Large number\", else print \"Small number\".\n",
    "if any(i>20 for i in numbers):\n",
    "    print(\"Large number\")\n",
    "else:\n",
    "    print(\"Small number\")"
   ]
  },
  {
   "cell_type": "markdown",
   "metadata": {},
   "source": [
    "# Simple Expression"
   ]
  },
  {
   "cell_type": "markdown",
   "metadata": {},
   "source": [
    "1- Given a = 5, b = 10 Print the results of: a + b, a * b, b - a, and b / a.\n",
    "\n",
    "2- Write an expression to calculate (a + b) * 2 and print the result.\n",
    "\n",
    "3- Write a program that takes age as input from the user and checks:\n",
    "\n",
    "4- If age >= 18, print \"You are an adult\", Otherwise, print \"You are a minor\""
   ]
  },
  {
   "cell_type": "code",
   "execution_count": 18,
   "metadata": {},
   "outputs": [
    {
     "name": "stdout",
     "output_type": "stream",
     "text": [
      "Addition of a and b is 15\n",
      "multipication of a and b is 50\n",
      "Subtraction of a and b is -5\n",
      "Division of a and b is 0.5\n",
      "30\n",
      "Enter your age:12\n",
      "You are a minor\n"
     ]
    }
   ],
   "source": [
    "# 1- Given a = 5, b = 10 Print the results of: a + b, a * b, b - a, and b / a.\n",
    "a = 5\n",
    "b = 10\n",
    "print(\"Addition of a and b is\",a + b)\n",
    "print(\"multipication of a and b is\",a * b)\n",
    "print(\"Subtraction of a and b is\",a - b)\n",
    "print(\"Division of a and b is\",a / b)\n",
    "\n",
    "# 2- Write an expression to calculate (a + b) * 2 and print the result.\n",
    "result = (a + b) * 2\n",
    "print(result)\n",
    "\n",
    "# 3- Write a program that takes age as input from the user and checks:\n",
    "age = int(input(\"Enter your age:\"))\n",
    "\n",
    "# 4- If age >= 18, print \"You are an adult\", Otherwise, print \"You are a minor\"\n",
    "if age >= 18:\n",
    "    print(\"You are an adult\")\n",
    "else:\n",
    "    print (\"You are a minor\")"
   ]
  },
  {
   "cell_type": "markdown",
   "metadata": {},
   "source": [
    "# More Expression Questions"
   ]
  },
  {
   "cell_type": "markdown",
   "metadata": {},
   "source": [
    "1- Calculate the area of a rectangle with width = 5 and height = 10. (Formula: area = width * height)\n",
    "\n",
    "2- Write an expression that converts Celsius to Fahrenheit:\n",
    "F = (C * 9/5) + 32, where C = 25.\n",
    "\n",
    "3- Write a simple interest formula:\n",
    "SI = (P * R * T) / 100, where P=1000, R=5, T=2"
   ]
  },
  {
   "cell_type": "code",
   "execution_count": 21,
   "metadata": {},
   "outputs": [
    {
     "name": "stdout",
     "output_type": "stream",
     "text": [
      "Area of ractangele is 50\n",
      "25 Celsius in Fahrenheit is 77.0\n",
      "Simple Interst is 100.0\n"
     ]
    }
   ],
   "source": [
    "# 1- Calculate the area of a rectangle with width = 5 and height = 10. (Formula: area = width * height)\n",
    "width = 5\n",
    "height = 10\n",
    "area_of_ract = area = width * height\n",
    "print(\"Area of ractangele is\",area_of_ract)\n",
    "\n",
    "# 2- Write an expression that converts Celsius to Fahrenheit: F = (C * 9/5) + 32, where C = 25.\n",
    "C = 25\n",
    "F = (C * 9/5) + 32\n",
    "print(\"25 Celsius in Fahrenheit is\",F)\n",
    "\n",
    "# 3- Write a simple interest formula: SI = (P R T) / 100, where P=1000, R=5, T=2\n",
    "P=1000\n",
    "R=5\n",
    "T=2\n",
    "Simple_interest  = (P*R*T) / 100\n",
    "print(\"Simple Interst is\",Simple_interest)\n"
   ]
  },
  {
   "cell_type": "markdown",
   "metadata": {},
   "source": [
    "# Range Function"
   ]
  },
  {
   "cell_type": "markdown",
   "metadata": {},
   "source": [
    "1- Use range() to print numbers from 0 to 4.\n",
    "\n",
    "2- Use range(1, 6) to print numbers from 1 to 5.\n",
    "\n",
    "3- Use a for loop with range(5) to print \"Hello\" 5 times.\n",
    "\n",
    "4- Use range(2, 11, 2) to print even numbers from 2 to 10.\n",
    "\n",
    "5- Use range(10, 0, -1) to print numbers from 10 to 1 in reverse order.\n",
    "\n",
    "6- Store a range(3, 8) in a list and print that list.\n",
    "\n",
    "7- Use range() inside a loop to print squares of numbers from 1 to 5.\n",
    "\n"
   ]
  },
  {
   "cell_type": "code",
   "execution_count": 30,
   "metadata": {},
   "outputs": [
    {
     "name": "stdout",
     "output_type": "stream",
     "text": [
      "0\n",
      "1\n",
      "2\n",
      "3\n",
      "4\n",
      "\n",
      "1\n",
      "2\n",
      "3\n",
      "4\n",
      "5\n",
      "\n",
      "Hello\n",
      "Hello\n",
      "Hello\n",
      "Hello\n",
      "Hello\n",
      "\n",
      "2\n",
      "4\n",
      "6\n",
      "8\n",
      "10\n",
      "\n",
      "10\n",
      "9\n",
      "8\n",
      "7\n",
      "6\n",
      "5\n",
      "4\n",
      "3\n",
      "2\n",
      "1\n",
      "\n",
      "[3, 4, 5, 6, 7]\n",
      "\n",
      "1\n",
      "4\n",
      "9\n",
      "16\n",
      "25\n"
     ]
    }
   ],
   "source": [
    "# 1- Use range() to print numbers from 0 to 4.\n",
    "for i in range(5):\n",
    "    print(i)\n",
    "    \n",
    "print()\n",
    "# 2- Use range(1, 6) to print numbers from 1 to 5.\n",
    "for i in range(1, 6):\n",
    "    print(i)\n",
    "    \n",
    "print()\n",
    "# 3- Use a for loop with range(5) to print \"Hello\" 5 times.\n",
    "for _ in range(5):\n",
    "    print(\"Hello\")\n",
    "print()\n",
    "# 4- Use range(2, 11, 2) to print even numbers from 2 to 10.\n",
    "for i in range(2,11,2):\n",
    "    print(i)\n",
    "print()    \n",
    "\n",
    "# 5- Use range(10, 0, -1) to print numbers from 10 to 1 in reverse order.\n",
    "for i in range (10, 0, -1):\n",
    "    print(i)\n",
    "print()\n",
    "# 6- Store a range(3, 8) in a list and print that list.\n",
    "my_list = list(range(3, 8))\n",
    "print( my_list)\n",
    "\n",
    "print()\n",
    "\n",
    "# 7. Print squares of numbers from 1 to 5\n",
    "for i in range(1, 6):\n",
    "    r = i * i\n",
    "    print(r)"
   ]
  },
  {
   "cell_type": "raw",
   "metadata": {},
   "source": [
    "All the Best \n",
    "Submit Before Saturday 12 PM"
   ]
  }
 ],
 "metadata": {
  "kernelspec": {
   "display_name": "Python 3",
   "language": "python",
   "name": "python3"
  },
  "language_info": {
   "codemirror_mode": {
    "name": "ipython",
    "version": 3
   },
   "file_extension": ".py",
   "mimetype": "text/x-python",
   "name": "python",
   "nbconvert_exporter": "python",
   "pygments_lexer": "ipython3",
   "version": "3.6.5"
  }
 },
 "nbformat": 4,
 "nbformat_minor": 5
}
